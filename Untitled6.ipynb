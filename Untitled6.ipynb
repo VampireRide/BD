{
  "nbformat": 4,
  "nbformat_minor": 0,
  "metadata": {
    "colab": {
      "name": "Untitled6.ipynb",
      "provenance": [],
      "authorship_tag": "ABX9TyMgt37UC1ka/o9qKqiDxI1M",
      "include_colab_link": true
    },
    "kernelspec": {
      "name": "python3",
      "display_name": "Python 3"
    },
    "language_info": {
      "name": "python"
    }
  },
  "cells": [
    {
      "cell_type": "markdown",
      "metadata": {
        "id": "view-in-github",
        "colab_type": "text"
      },
      "source": [
        "<a href=\"https://colab.research.google.com/github/VampireRide/BD/blob/main/Untitled6.ipynb\" target=\"_parent\"><img src=\"https://colab.research.google.com/assets/colab-badge.svg\" alt=\"Open In Colab\"/></a>"
      ]
    },
    {
      "cell_type": "code",
      "metadata": {
        "id": "ugfeMvXituv2"
      },
      "source": [
        "import math"
      ],
      "execution_count": 19,
      "outputs": []
    },
    {
      "cell_type": "code",
      "metadata": {
        "colab": {
          "base_uri": "https://localhost:8080/"
        },
        "id": "6lBNofqttv2h",
        "outputId": "94bcd5a0-806d-4e71-f887-b367adb79182"
      },
      "source": [
        " math.sin(2)"
      ],
      "execution_count": 2,
      "outputs": [
        {
          "output_type": "execute_result",
          "data": {
            "text/plain": [
              "0.9092974268256817"
            ]
          },
          "metadata": {},
          "execution_count": 2
        }
      ]
    },
    {
      "cell_type": "code",
      "metadata": {
        "colab": {
          "base_uri": "https://localhost:8080/"
        },
        "id": "M-H5Sft2tzGT",
        "outputId": "20296eb6-46de-49e2-9022-8a92146bc72f"
      },
      "source": [
        "math.cos(2)"
      ],
      "execution_count": 3,
      "outputs": [
        {
          "output_type": "execute_result",
          "data": {
            "text/plain": [
              "-0.4161468365471424"
            ]
          },
          "metadata": {},
          "execution_count": 3
        }
      ]
    },
    {
      "cell_type": "code",
      "metadata": {
        "colab": {
          "base_uri": "https://localhost:8080/"
        },
        "id": "PkqRcFI-t1I9",
        "outputId": "db945c14-834d-401a-9706-86a501004585"
      },
      "source": [
        " print(In)\n",
        " ['', 'import math', 'math.sin(2)', 'math.cos(2)', 'print(In)']"
      ],
      "execution_count": 4,
      "outputs": [
        {
          "output_type": "stream",
          "name": "stdout",
          "text": [
            "['', 'import math', 'math.sin(2)', 'math.cos(2)', \"print(In)\\n['', 'import math', 'math.sin(2)', 'math.cos(2)', 'print(In)']\"]\n"
          ]
        },
        {
          "output_type": "execute_result",
          "data": {
            "text/plain": [
              "['', 'import math', 'math.sin(2)', 'math.cos(2)', 'print(In)']"
            ]
          },
          "metadata": {},
          "execution_count": 4
        }
      ]
    },
    {
      "cell_type": "code",
      "metadata": {
        "colab": {
          "base_uri": "https://localhost:8080/"
        },
        "id": "BWRZfb4kt7IW",
        "outputId": "ce94847e-92e7-4957-87cc-08318cc4c661"
      },
      "source": [
        "Out"
      ],
      "execution_count": 5,
      "outputs": [
        {
          "output_type": "execute_result",
          "data": {
            "text/plain": [
              "{2: 0.9092974268256817,\n",
              " 3: -0.4161468365471424,\n",
              " 4: ['', 'import math', 'math.sin(2)', 'math.cos(2)', 'print(In)']}"
            ]
          },
          "metadata": {},
          "execution_count": 5
        }
      ]
    },
    {
      "cell_type": "code",
      "metadata": {
        "colab": {
          "base_uri": "https://localhost:8080/"
        },
        "id": "tRjEdGYXt9jX",
        "outputId": "b5eec084-1ae6-4ac6-ef6f-cfe2034407b5"
      },
      "source": [
        "print(In[1])"
      ],
      "execution_count": 7,
      "outputs": [
        {
          "output_type": "stream",
          "name": "stdout",
          "text": [
            "import math\n"
          ]
        }
      ]
    },
    {
      "cell_type": "code",
      "metadata": {
        "colab": {
          "base_uri": "https://localhost:8080/"
        },
        "id": "0No3fDpWuAhN",
        "outputId": "b8f6f63c-5c40-42c0-a2b3-8665f4475316"
      },
      "source": [
        "print(Out[2])"
      ],
      "execution_count": 9,
      "outputs": [
        {
          "output_type": "stream",
          "name": "stdout",
          "text": [
            "0.9092974268256817\n"
          ]
        }
      ]
    },
    {
      "cell_type": "code",
      "metadata": {
        "colab": {
          "base_uri": "https://localhost:8080/"
        },
        "id": "dGNpJeuruEyd",
        "outputId": "ce478b5f-8b4d-4d16-873b-ff07c25f98db"
      },
      "source": [
        "Out[2] ** 2 + Out[3] ** 2"
      ],
      "execution_count": 10,
      "outputs": [
        {
          "output_type": "execute_result",
          "data": {
            "text/plain": [
              "1.0"
            ]
          },
          "metadata": {},
          "execution_count": 10
        }
      ]
    },
    {
      "cell_type": "code",
      "metadata": {
        "colab": {
          "base_uri": "https://localhost:8080/"
        },
        "id": "hXDiJm31uKM1",
        "outputId": "c8aa4b1d-b452-4d69-a97f-0b8d810bca40"
      },
      "source": [
        "print(_)"
      ],
      "execution_count": 11,
      "outputs": [
        {
          "output_type": "stream",
          "name": "stdout",
          "text": [
            "1.0\n"
          ]
        }
      ]
    },
    {
      "cell_type": "code",
      "metadata": {
        "colab": {
          "base_uri": "https://localhost:8080/"
        },
        "id": "6-_qcCQYuMYw",
        "outputId": "657bb4dc-00e1-411f-fe07-11985cea934c"
      },
      "source": [
        "print(__)"
      ],
      "execution_count": 12,
      "outputs": [
        {
          "output_type": "stream",
          "name": "stdout",
          "text": [
            "0.9092974268256817\n"
          ]
        }
      ]
    },
    {
      "cell_type": "code",
      "metadata": {
        "colab": {
          "base_uri": "https://localhost:8080/"
        },
        "id": "ctgbAgLruOdz",
        "outputId": "281f4478-ab70-4b57-bc89-aeba090f9fc6"
      },
      "source": [
        "print(___)"
      ],
      "execution_count": 13,
      "outputs": [
        {
          "output_type": "stream",
          "name": "stdout",
          "text": [
            "['', 'import math', 'math.sin(2)', 'math.cos(2)', 'print(In)']\n"
          ]
        }
      ]
    },
    {
      "cell_type": "code",
      "metadata": {
        "colab": {
          "base_uri": "https://localhost:8080/"
        },
        "id": "jDFTTwekuSIE",
        "outputId": "2210aff2-088b-48ac-d922-a263194ff422"
      },
      "source": [
        "Out[2]"
      ],
      "execution_count": 14,
      "outputs": [
        {
          "output_type": "execute_result",
          "data": {
            "text/plain": [
              "0.9092974268256817"
            ]
          },
          "metadata": {},
          "execution_count": 14
        }
      ]
    },
    {
      "cell_type": "code",
      "metadata": {
        "colab": {
          "base_uri": "https://localhost:8080/"
        },
        "id": "OLgHOaP6uUhk",
        "outputId": "696236c6-83cb-4e77-d86c-2bf61e03140a"
      },
      "source": [
        " _2"
      ],
      "execution_count": 15,
      "outputs": [
        {
          "output_type": "execute_result",
          "data": {
            "text/plain": [
              "0.9092974268256817"
            ]
          },
          "metadata": {},
          "execution_count": 15
        }
      ]
    },
    {
      "cell_type": "code",
      "metadata": {
        "id": "IffeJ-HpuXA-"
      },
      "source": [
        "math.sin(2) + math.cos(2);"
      ],
      "execution_count": 16,
      "outputs": []
    },
    {
      "cell_type": "code",
      "metadata": {
        "colab": {
          "base_uri": "https://localhost:8080/"
        },
        "id": "yr32RzuJuZGZ",
        "outputId": "ebcaf899-5ffe-4936-9e2d-1c3d4ebc1592"
      },
      "source": [
        "14 in Out"
      ],
      "execution_count": 17,
      "outputs": [
        {
          "output_type": "execute_result",
          "data": {
            "text/plain": [
              "True"
            ]
          },
          "metadata": {},
          "execution_count": 17
        }
      ]
    },
    {
      "cell_type": "code",
      "metadata": {
        "colab": {
          "base_uri": "https://localhost:8080/"
        },
        "id": "saz5PPZWucSW",
        "outputId": "99601026-6a98-4931-c2d6-e3a69e058f32"
      },
      "source": [
        "%history -n 1-4"
      ],
      "execution_count": 21,
      "outputs": [
        {
          "output_type": "stream",
          "name": "stdout",
          "text": [
            "   1: import math\n",
            "   2:  math.sin(2)\n",
            "   3: math.cos(2)\n",
            "   4:\n",
            " print(In)\n",
            " ['', 'import math', 'math.sin(2)', 'math.cos(2)', 'print(In)']\n"
          ]
        }
      ]
    }
  ]
}