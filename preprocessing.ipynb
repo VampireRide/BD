{
  "nbformat": 4,
  "nbformat_minor": 0,
  "metadata": {
    "colab": {
      "name": "preprocessing.ipynb",
      "provenance": [],
      "authorship_tag": "ABX9TyM1WEyVh7N6Bbb7djHn/Ayp",
      "include_colab_link": true
    },
    "kernelspec": {
      "name": "python3",
      "display_name": "Python 3"
    },
    "language_info": {
      "name": "python"
    }
  },
  "cells": [
    {
      "cell_type": "markdown",
      "metadata": {
        "id": "view-in-github",
        "colab_type": "text"
      },
      "source": [
        "<a href=\"https://colab.research.google.com/github/VampireRide/BD/blob/main/preprocessing.ipynb\" target=\"_parent\"><img src=\"https://colab.research.google.com/assets/colab-badge.svg\" alt=\"Open In Colab\"/></a>"
      ]
    },
    {
      "cell_type": "code",
      "metadata": {
        "id": "IvqFeRP_TTbc"
      },
      "source": [
        "import pandas as pd"
      ],
      "execution_count": 17,
      "outputs": []
    },
    {
      "cell_type": "code",
      "metadata": {
        "id": "dkx4M_yXTVjJ"
      },
      "source": [
        "practicals = pd.read_csv(\"practicals.csv\")"
      ],
      "execution_count": 18,
      "outputs": []
    },
    {
      "cell_type": "code",
      "metadata": {
        "colab": {
          "base_uri": "https://localhost:8080/",
          "height": 258
        },
        "id": "rPBgL2qhZNgP",
        "outputId": "400cc5e1-6349-4394-92f6-da35cc7d5e2c"
      },
      "source": [
        "practicals.head()"
      ],
      "execution_count": 19,
      "outputs": [
        {
          "output_type": "execute_result",
          "data": {
            "text/html": [
              "<div>\n",
              "<style scoped>\n",
              "    .dataframe tbody tr th:only-of-type {\n",
              "        vertical-align: middle;\n",
              "    }\n",
              "\n",
              "    .dataframe tbody tr th {\n",
              "        vertical-align: top;\n",
              "    }\n",
              "\n",
              "    .dataframe thead th {\n",
              "        text-align: right;\n",
              "    }\n",
              "</style>\n",
              "<table border=\"1\" class=\"dataframe\">\n",
              "  <thead>\n",
              "    <tr style=\"text-align: right;\">\n",
              "      <th></th>\n",
              "      <th>Farmer_ID</th>\n",
              "      <th>Gender</th>\n",
              "      <th>Property_Area</th>\n",
              "      <th>Property in sq.ft</th>\n",
              "      <th>Seeds</th>\n",
              "      <th>Quantity in KG</th>\n",
              "      <th>Unnamed: 6</th>\n",
              "      <th>Farmer Education</th>\n",
              "    </tr>\n",
              "  </thead>\n",
              "  <tbody>\n",
              "    <tr>\n",
              "      <th>0</th>\n",
              "      <td>F001002</td>\n",
              "      <td>Male</td>\n",
              "      <td>Urban</td>\n",
              "      <td>5849</td>\n",
              "      <td>1345</td>\n",
              "      <td>115</td>\n",
              "      <td>NaN</td>\n",
              "      <td>Graduate</td>\n",
              "    </tr>\n",
              "    <tr>\n",
              "      <th>1</th>\n",
              "      <td>F001003</td>\n",
              "      <td>Male</td>\n",
              "      <td>Rural</td>\n",
              "      <td>4583</td>\n",
              "      <td>1508</td>\n",
              "      <td>128</td>\n",
              "      <td>NaN</td>\n",
              "      <td>Graduate</td>\n",
              "    </tr>\n",
              "    <tr>\n",
              "      <th>2</th>\n",
              "      <td>F001004</td>\n",
              "      <td>Male</td>\n",
              "      <td>Urban</td>\n",
              "      <td>3000</td>\n",
              "      <td>1432</td>\n",
              "      <td>66</td>\n",
              "      <td>NaN</td>\n",
              "      <td>Graduate</td>\n",
              "    </tr>\n",
              "    <tr>\n",
              "      <th>3</th>\n",
              "      <td>F001005</td>\n",
              "      <td>Male</td>\n",
              "      <td>Urban</td>\n",
              "      <td>2583</td>\n",
              "      <td>2358</td>\n",
              "      <td>120</td>\n",
              "      <td>NaN</td>\n",
              "      <td>Not Graduate</td>\n",
              "    </tr>\n",
              "    <tr>\n",
              "      <th>4</th>\n",
              "      <td>F001006</td>\n",
              "      <td>Male</td>\n",
              "      <td>Urban</td>\n",
              "      <td>6000</td>\n",
              "      <td>2956</td>\n",
              "      <td>141</td>\n",
              "      <td>NaN</td>\n",
              "      <td>Graduate</td>\n",
              "    </tr>\n",
              "  </tbody>\n",
              "</table>\n",
              "</div>"
            ],
            "text/plain": [
              "  Farmer_ID Gender Property_Area  ...  Quantity in KG  Unnamed: 6  Farmer Education\n",
              "0   F001002   Male         Urban  ...             115         NaN          Graduate\n",
              "1   F001003   Male         Rural  ...             128         NaN          Graduate\n",
              "2   F001004   Male         Urban  ...              66         NaN          Graduate\n",
              "3   F001005   Male         Urban  ...             120         NaN      Not Graduate\n",
              "4   F001006   Male         Urban  ...             141         NaN          Graduate\n",
              "\n",
              "[5 rows x 8 columns]"
            ]
          },
          "metadata": {
            "tags": []
          },
          "execution_count": 19
        }
      ]
    },
    {
      "cell_type": "code",
      "metadata": {
        "colab": {
          "base_uri": "https://localhost:8080/",
          "height": 275
        },
        "id": "wfi9GM7AZSax",
        "outputId": "1473fd72-d572-479e-b538-55aa316968cc"
      },
      "source": [
        "practicals.tail()"
      ],
      "execution_count": 20,
      "outputs": [
        {
          "output_type": "execute_result",
          "data": {
            "text/html": [
              "<div>\n",
              "<style scoped>\n",
              "    .dataframe tbody tr th:only-of-type {\n",
              "        vertical-align: middle;\n",
              "    }\n",
              "\n",
              "    .dataframe tbody tr th {\n",
              "        vertical-align: top;\n",
              "    }\n",
              "\n",
              "    .dataframe thead th {\n",
              "        text-align: right;\n",
              "    }\n",
              "</style>\n",
              "<table border=\"1\" class=\"dataframe\">\n",
              "  <thead>\n",
              "    <tr style=\"text-align: right;\">\n",
              "      <th></th>\n",
              "      <th>Farmer_ID</th>\n",
              "      <th>Gender</th>\n",
              "      <th>Property_Area</th>\n",
              "      <th>Property in sq.ft</th>\n",
              "      <th>Seeds</th>\n",
              "      <th>Quantity in KG</th>\n",
              "      <th>Unnamed: 6</th>\n",
              "      <th>Farmer Education</th>\n",
              "    </tr>\n",
              "  </thead>\n",
              "  <tbody>\n",
              "    <tr>\n",
              "      <th>14</th>\n",
              "      <td>F001016</td>\n",
              "      <td>Male</td>\n",
              "      <td>Urban</td>\n",
              "      <td>1299</td>\n",
              "      <td>1086</td>\n",
              "      <td>17</td>\n",
              "      <td>NaN</td>\n",
              "      <td>Graduate</td>\n",
              "    </tr>\n",
              "    <tr>\n",
              "      <th>15</th>\n",
              "      <td>F001017</td>\n",
              "      <td>Male</td>\n",
              "      <td>Urban</td>\n",
              "      <td>4950</td>\n",
              "      <td>2343</td>\n",
              "      <td>125</td>\n",
              "      <td>NaN</td>\n",
              "      <td>Graduate</td>\n",
              "    </tr>\n",
              "    <tr>\n",
              "      <th>16</th>\n",
              "      <td>F001018</td>\n",
              "      <td>Male</td>\n",
              "      <td>Urban</td>\n",
              "      <td>3596</td>\n",
              "      <td>4566</td>\n",
              "      <td>100</td>\n",
              "      <td>NaN</td>\n",
              "      <td>Not Graduate</td>\n",
              "    </tr>\n",
              "    <tr>\n",
              "      <th>17</th>\n",
              "      <td>F001019</td>\n",
              "      <td>Female</td>\n",
              "      <td>Urban</td>\n",
              "      <td>3510</td>\n",
              "      <td>6746</td>\n",
              "      <td>76</td>\n",
              "      <td>NaN</td>\n",
              "      <td>Graduate</td>\n",
              "    </tr>\n",
              "    <tr>\n",
              "      <th>18</th>\n",
              "      <td>F001020</td>\n",
              "      <td>Male</td>\n",
              "      <td>Rural</td>\n",
              "      <td>4887</td>\n",
              "      <td>4724</td>\n",
              "      <td>133</td>\n",
              "      <td>NaN</td>\n",
              "      <td>Not Graduate</td>\n",
              "    </tr>\n",
              "  </tbody>\n",
              "</table>\n",
              "</div>"
            ],
            "text/plain": [
              "   Farmer_ID  Gender Property_Area  ...  Quantity in KG  Unnamed: 6  Farmer Education\n",
              "14   F001016    Male         Urban  ...              17         NaN          Graduate\n",
              "15   F001017    Male         Urban  ...             125         NaN          Graduate\n",
              "16   F001018    Male         Urban  ...             100         NaN      Not Graduate\n",
              "17   F001019  Female         Urban  ...              76         NaN          Graduate\n",
              "18   F001020    Male         Rural  ...             133         NaN      Not Graduate\n",
              "\n",
              "[5 rows x 8 columns]"
            ]
          },
          "metadata": {
            "tags": []
          },
          "execution_count": 20
        }
      ]
    },
    {
      "cell_type": "code",
      "metadata": {
        "colab": {
          "base_uri": "https://localhost:8080/",
          "height": 297
        },
        "id": "kmeF6JYqZbeo",
        "outputId": "c18281a8-4062-401a-c419-286e5a48e736"
      },
      "source": [
        "practicals.describe()"
      ],
      "execution_count": 21,
      "outputs": [
        {
          "output_type": "execute_result",
          "data": {
            "text/html": [
              "<div>\n",
              "<style scoped>\n",
              "    .dataframe tbody tr th:only-of-type {\n",
              "        vertical-align: middle;\n",
              "    }\n",
              "\n",
              "    .dataframe tbody tr th {\n",
              "        vertical-align: top;\n",
              "    }\n",
              "\n",
              "    .dataframe thead th {\n",
              "        text-align: right;\n",
              "    }\n",
              "</style>\n",
              "<table border=\"1\" class=\"dataframe\">\n",
              "  <thead>\n",
              "    <tr style=\"text-align: right;\">\n",
              "      <th></th>\n",
              "      <th>Property in sq.ft</th>\n",
              "      <th>Seeds</th>\n",
              "      <th>Quantity in KG</th>\n",
              "      <th>Unnamed: 6</th>\n",
              "    </tr>\n",
              "  </thead>\n",
              "  <tbody>\n",
              "    <tr>\n",
              "      <th>count</th>\n",
              "      <td>19.000000</td>\n",
              "      <td>19.000000</td>\n",
              "      <td>19.000000</td>\n",
              "      <td>0.0</td>\n",
              "    </tr>\n",
              "    <tr>\n",
              "      <th>mean</th>\n",
              "      <td>4132.421053</td>\n",
              "      <td>3329.473684</td>\n",
              "      <td>134.263158</td>\n",
              "      <td>NaN</td>\n",
              "    </tr>\n",
              "    <tr>\n",
              "      <th>std</th>\n",
              "      <td>2495.103234</td>\n",
              "      <td>2703.908948</td>\n",
              "      <td>74.609980</td>\n",
              "      <td>NaN</td>\n",
              "    </tr>\n",
              "    <tr>\n",
              "      <th>min</th>\n",
              "      <td>1299.000000</td>\n",
              "      <td>700.000000</td>\n",
              "      <td>17.000000</td>\n",
              "      <td>NaN</td>\n",
              "    </tr>\n",
              "    <tr>\n",
              "      <th>25%</th>\n",
              "      <td>2791.500000</td>\n",
              "      <td>1512.000000</td>\n",
              "      <td>97.500000</td>\n",
              "      <td>NaN</td>\n",
              "    </tr>\n",
              "    <tr>\n",
              "      <th>50%</th>\n",
              "      <td>3510.000000</td>\n",
              "      <td>2358.000000</td>\n",
              "      <td>120.000000</td>\n",
              "      <td>NaN</td>\n",
              "    </tr>\n",
              "    <tr>\n",
              "      <th>75%</th>\n",
              "      <td>4918.500000</td>\n",
              "      <td>4381.000000</td>\n",
              "      <td>149.500000</td>\n",
              "      <td>NaN</td>\n",
              "    </tr>\n",
              "    <tr>\n",
              "      <th>max</th>\n",
              "      <td>12841.000000</td>\n",
              "      <td>10968.000000</td>\n",
              "      <td>349.000000</td>\n",
              "      <td>NaN</td>\n",
              "    </tr>\n",
              "  </tbody>\n",
              "</table>\n",
              "</div>"
            ],
            "text/plain": [
              "       Property in sq.ft         Seeds  Quantity in KG  Unnamed: 6\n",
              "count          19.000000     19.000000       19.000000         0.0\n",
              "mean         4132.421053   3329.473684      134.263158         NaN\n",
              "std          2495.103234   2703.908948       74.609980         NaN\n",
              "min          1299.000000    700.000000       17.000000         NaN\n",
              "25%          2791.500000   1512.000000       97.500000         NaN\n",
              "50%          3510.000000   2358.000000      120.000000         NaN\n",
              "75%          4918.500000   4381.000000      149.500000         NaN\n",
              "max         12841.000000  10968.000000      349.000000         NaN"
            ]
          },
          "metadata": {
            "tags": []
          },
          "execution_count": 21
        }
      ]
    },
    {
      "cell_type": "code",
      "metadata": {
        "colab": {
          "base_uri": "https://localhost:8080/"
        },
        "id": "ZSWQtTYSZlx8",
        "outputId": "723c4623-87cb-41fc-cdb5-c2c5fe24d80c"
      },
      "source": [
        "practicals.shape"
      ],
      "execution_count": 23,
      "outputs": [
        {
          "output_type": "execute_result",
          "data": {
            "text/plain": [
              "(19, 8)"
            ]
          },
          "metadata": {
            "tags": []
          },
          "execution_count": 23
        }
      ]
    },
    {
      "cell_type": "code",
      "metadata": {
        "colab": {
          "base_uri": "https://localhost:8080/"
        },
        "id": "wYrVauJdZsEy",
        "outputId": "ca515f46-4015-46a3-afc6-d3bd54d99c45"
      },
      "source": [
        "practicals.info()"
      ],
      "execution_count": 24,
      "outputs": [
        {
          "output_type": "stream",
          "text": [
            "<class 'pandas.core.frame.DataFrame'>\n",
            "RangeIndex: 19 entries, 0 to 18\n",
            "Data columns (total 8 columns):\n",
            " #   Column             Non-Null Count  Dtype  \n",
            "---  ------             --------------  -----  \n",
            " 0   Farmer_ID          19 non-null     object \n",
            " 1   Gender             19 non-null     object \n",
            " 2   Property_Area      19 non-null     object \n",
            " 3   Property in sq.ft  19 non-null     int64  \n",
            " 4   Seeds              19 non-null     int64  \n",
            " 5   Quantity in KG     19 non-null     int64  \n",
            " 6   Unnamed: 6         0 non-null      float64\n",
            " 7   Farmer Education   19 non-null     object \n",
            "dtypes: float64(1), int64(3), object(4)\n",
            "memory usage: 1.3+ KB\n"
          ],
          "name": "stdout"
        }
      ]
    },
    {
      "cell_type": "code",
      "metadata": {
        "colab": {
          "base_uri": "https://localhost:8080/"
        },
        "id": "aCXRUMs9T3xn",
        "outputId": "f3ff1db5-9c26-4220-c865-96aeb137e859"
      },
      "source": [
        "print(practicals.isnull().sum())"
      ],
      "execution_count": 25,
      "outputs": [
        {
          "output_type": "stream",
          "text": [
            "Farmer_ID             0\n",
            "Gender                0\n",
            "Property_Area         0\n",
            "Property in sq.ft     0\n",
            "Seeds                 0\n",
            "Quantity in KG        0\n",
            "Unnamed: 6           19\n",
            "Farmer Education      0\n",
            "dtype: int64\n"
          ],
          "name": "stdout"
        }
      ]
    },
    {
      "cell_type": "code",
      "metadata": {
        "colab": {
          "base_uri": "https://localhost:8080/"
        },
        "id": "jfJ4bry3WDEQ",
        "outputId": "acf31b75-cae5-4136-eeee-d7da0e4c0022"
      },
      "source": [
        "\n",
        "practicals.dtypes"
      ],
      "execution_count": 26,
      "outputs": [
        {
          "output_type": "execute_result",
          "data": {
            "text/plain": [
              "Farmer_ID             object\n",
              "Gender                object\n",
              "Property_Area         object\n",
              "Property in sq.ft      int64\n",
              "Seeds                  int64\n",
              "Quantity in KG         int64\n",
              "Unnamed: 6           float64\n",
              "Farmer Education      object\n",
              "dtype: object"
            ]
          },
          "metadata": {
            "tags": []
          },
          "execution_count": 26
        }
      ]
    },
    {
      "cell_type": "code",
      "metadata": {
        "id": "GZBEeDihWOl5"
      },
      "source": [
        "practicals.dropna(axis = 0, inplace = True)"
      ],
      "execution_count": 27,
      "outputs": []
    },
    {
      "cell_type": "code",
      "metadata": {
        "colab": {
          "base_uri": "https://localhost:8080/"
        },
        "id": "TIupR_1-WW4m",
        "outputId": "f456c4f0-2d80-498e-9f8a-ad508765e101"
      },
      "source": [
        "print(practicals.isnull().sum())\n"
      ],
      "execution_count": 28,
      "outputs": [
        {
          "output_type": "stream",
          "text": [
            "Farmer_ID            0\n",
            "Gender               0\n",
            "Property_Area        0\n",
            "Property in sq.ft    0\n",
            "Seeds                0\n",
            "Quantity in KG       0\n",
            "Unnamed: 6           0\n",
            "Farmer Education     0\n",
            "dtype: int64\n"
          ],
          "name": "stdout"
        }
      ]
    },
    {
      "cell_type": "code",
      "metadata": {
        "id": "NGinLkHlWm_x"
      },
      "source": [
        ""
      ],
      "execution_count": null,
      "outputs": []
    },
    {
      "cell_type": "markdown",
      "metadata": {
        "id": "wbx5SyGOZHyc"
      },
      "source": [
        ""
      ]
    }
  ]
}